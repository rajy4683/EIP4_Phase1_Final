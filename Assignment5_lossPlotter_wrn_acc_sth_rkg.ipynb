{
  "nbformat": 4,
  "nbformat_minor": 0,
  "metadata": {
    "colab": {
      "name": "Assignment5_lossPlotter_wrn_acc_sth_rkg.ipynb",
      "provenance": [],
      "collapsed_sections": [],
      "include_colab_link": true
    },
    "kernelspec": {
      "name": "python3",
      "display_name": "Python 3"
    }
  },
  "cells": [
    {
      "cell_type": "markdown",
      "metadata": {
        "id": "view-in-github",
        "colab_type": "text"
      },
      "source": [
        "<a href=\"https://colab.research.google.com/github/rajy4683/EIP4_Phase1_Final/blob/master/Assignment5_lossPlotter_wrn_acc_sth_rkg.ipynb\" target=\"_parent\"><img src=\"https://colab.research.google.com/assets/colab-badge.svg\" alt=\"Open In Colab\"/></a>"
      ]
    },
    {
      "cell_type": "code",
      "metadata": {
        "id": "kWpG6fYKNSQV",
        "colab_type": "code",
        "outputId": "305bfc14-5b38-4aa7-8660-4b059ddb7556",
        "colab": {
          "base_uri": "https://localhost:8080/",
          "height": 33
        }
      },
      "source": [
        "from google.colab import drive\n",
        "drive.mount('/content/gdrive')"
      ],
      "execution_count": 1,
      "outputs": [
        {
          "output_type": "stream",
          "text": [
            "Drive already mounted at /content/gdrive; to attempt to forcibly remount, call drive.mount(\"/content/gdrive\", force_remount=True).\n"
          ],
          "name": "stdout"
        }
      ]
    },
    {
      "cell_type": "code",
      "metadata": {
        "id": "1ycwVPVcZE2u",
        "colab_type": "code",
        "colab": {}
      },
      "source": [
        "#from urllib2 import Request, urlopen\n",
        "import json\n",
        "from pandas.io.json import json_normalize\n",
        "import pandas as pd\n",
        "import numpy as np\n",
        "import matplotlib.pyplot as plt\n",
        "# mount gdrive and unzip data\n",
        "\n",
        "from tabulate import tabulate\n",
        "import re\n",
        "import glob\n",
        "import os\n",
        "pd.options.display.max_columns = 6"
      ],
      "execution_count": 0,
      "outputs": []
    },
    {
      "cell_type": "code",
      "metadata": {
        "id": "_xMoKpNYZGqI",
        "colab_type": "code",
        "colab": {}
      },
      "source": [
        "file_name='/content/gdrive/My Drive/json_wrn2_widrn_acc_run2_sth_1577258285.json'\n",
        "#'/content/gdrive/My Drive/json_simplecnn_rekog_1577176651.json'\n",
        "df = pd.read_json(file_name)\n"
      ],
      "execution_count": 0,
      "outputs": []
    },
    {
      "cell_type": "code",
      "metadata": {
        "id": "0HnClbweZUYR",
        "colab_type": "code",
        "colab": {}
      },
      "source": [
        "df.columns"
      ],
      "execution_count": 0,
      "outputs": []
    },
    {
      "cell_type": "code",
      "metadata": {
        "id": "tsYsE0qHZVhH",
        "colab_type": "code",
        "colab": {}
      },
      "source": [
        "def plot_graphs(df, index_range, column_to_plot):\n",
        "    fig, ax = plt.subplots(figsize=(15, 6))\n",
        "    for counter_name in column_to_plot:\n",
        "        #ax.plot(df[time_index].values,df[counter_name].values)\n",
        "        #index_range= df[time_index].values\n",
        "        if(index_range is None):\n",
        "            index_range=np.arange(0,df.shape[0],1)\n",
        "        ax.plot(index_range,df[counter_name].values)\n",
        "    ax.set(xlabel=\"Date\", ylabel=\"Loss/Accuracy\")\n",
        "    ax.legend(column_to_plot)"
      ],
      "execution_count": 0,
      "outputs": []
    },
    {
      "cell_type": "code",
      "metadata": {
        "id": "QSVqGcrEw0Be",
        "colab_type": "code",
        "colab": {}
      },
      "source": [
        "from tabulate import tabulate\n",
        "def show_table(df_to_show,acc_loss):\n",
        "  pattern_str =\"^val.*\"+acc_loss+\"$|val_loss\"\n",
        "  prog_acc = re.compile(pattern_str)\n",
        "  val_loss = [column_name for column_name in df_to_show.columns if prog_acc.match(column_name) != None]\n",
        "  #print(val_loss)\n",
        "  #print(df_to_show[val_loss])\n",
        "  print(tabulate(df_to_show[val_loss],headers=val_loss))\n"
      ],
      "execution_count": 0,
      "outputs": []
    },
    {
      "cell_type": "code",
      "metadata": {
        "id": "dt-IL_MDRXFU",
        "colab_type": "code",
        "colab": {}
      },
      "source": [
        "def plot_moving_average(df_to_show,acc_loss,periods=10):\n",
        "  #plt.plot(figsize=(15, 6))\n",
        "  pattern_str =\"^val.*\"+acc_loss\n",
        "  prog = re.compile(pattern_str)\n",
        "  val = [column_name for column_name in df_to_show.columns if prog.match(column_name) != None]\n",
        "  df_to_show[val].rolling(window=5).mean().plot(figsize=(15, 6))"
      ],
      "execution_count": 0,
      "outputs": []
    },
    {
      "cell_type": "code",
      "metadata": {
        "id": "xtQTyt-Shguc",
        "colab_type": "code",
        "colab": {}
      },
      "source": [
        "def plot_lr_val_loss(df_to_plot):\n",
        "    fig, ax = plt.subplots(2,figsize=(15, 6))\n",
        "    ax[0].plot(df_to_plot.index.values,df_to_plot['lr'].values,label='lr')\n",
        "    ax[0].set_ylim(df_to_plot['lr'].min(), df_to_plot['lr'].max())\n",
        "    ax[0].legend()\n",
        "    ax[1].plot(df_to_plot.index.values,df_to_plot['val_loss'].values,'-o',color='purple',label='val_loss')\n",
        "    ax[1].set_ylim(df_to_plot['val_loss'].min(), df_to_plot['val_loss'].max())\n",
        "    ax[1].legend()"
      ],
      "execution_count": 0,
      "outputs": []
    },
    {
      "cell_type": "code",
      "metadata": {
        "id": "bWmczpSOaK-y",
        "colab_type": "code",
        "colab": {}
      },
      "source": [
        "def plot_all_loss_accuracy(df):\n",
        "    plot_graphs(df, np.arange(0,df.shape[0],1), ['lr'])\n",
        "    prog = re.compile(\"^val.*acc$|^val.*accuracy$\")\n",
        "    val_acc = [column_name for column_name in df.columns if prog.match(column_name) != None]\n",
        "    plot_graphs(df, np.arange(0,df.shape[0],1), val_acc)\n",
        "    prog = re.compile(\"^val.*output_loss$\")\n",
        "    val_loss = [column_name for column_name in df.columns if prog.match(column_name) != None]\n",
        "    #print(val_loss)\n",
        "    plot_graphs(df, np.arange(0,df.shape[0],1), val_loss)\n",
        "    total_loss = ['loss','val_loss']\n",
        "    plot_graphs(df, np.arange(0,df.shape[0],1), total_loss)\n",
        "    plot_lr_val_loss(df)"
      ],
      "execution_count": 0,
      "outputs": []
    },
    {
      "cell_type": "code",
      "metadata": {
        "id": "QxXkLzGYTxy5",
        "colab_type": "code",
        "colab": {}
      },
      "source": [
        "plot_all_loss_accuracy(df)"
      ],
      "execution_count": 0,
      "outputs": []
    },
    {
      "cell_type": "code",
      "metadata": {
        "id": "s7tzeSJMcsD8",
        "colab_type": "code",
        "outputId": "cc942327-d74d-4c95-9ccc-09616fb27ffc",
        "colab": {
          "base_uri": "https://localhost:8080/",
          "height": 150
        }
      },
      "source": [
        "import re\n",
        "prog = re.compile(\"^val.*acc$\")\n",
        "val_acc_1 = [column_name for column_name in df.columns if prog.match(column_name) != None]\n",
        "val_acc_1"
      ],
      "execution_count": 9,
      "outputs": [
        {
          "output_type": "execute_result",
          "data": {
            "text/plain": [
              "['val_gender_output_weighted_acc',\n",
              " 'val_image_quality_output_weighted_acc',\n",
              " 'val_age_output_weighted_acc',\n",
              " 'val_weight_output_weighted_acc',\n",
              " 'val_bag_output_weighted_acc',\n",
              " 'val_pose_output_weighted_acc',\n",
              " 'val_footwear_output_weighted_acc',\n",
              " 'val_emotion_output_weighted_acc']"
            ]
          },
          "metadata": {
            "tags": []
          },
          "execution_count": 9
        }
      ]
    },
    {
      "cell_type": "code",
      "metadata": {
        "id": "FfVMPhnkNzZh",
        "colab_type": "code",
        "colab": {}
      },
      "source": [
        "prog_acc = re.compile(\"^val.*acc$\")\n",
        "val_acc = [column_name for column_name in df.columns if prog_acc.match(column_name) != None]\n",
        "prog_loss = re.compile(\"^val.*loss$\")\n",
        "val_loss = [column_name for column_name in df.columns if prog_loss.match(column_name) != None]"
      ],
      "execution_count": 0,
      "outputs": []
    },
    {
      "cell_type": "code",
      "metadata": {
        "id": "5OQQTs9rTkZd",
        "colab_type": "code",
        "colab": {}
      },
      "source": [
        "def plot_from_df(df_local, plot_graphs=False):\n",
        "    min_val_loss_idx = df_local['val_loss'].idxmin()\n",
        "    print(\"#####################################\")\n",
        "    print(\"Epochs:\",df_local['val_loss'].shape[0]-1,\"Min val_loss:\",np.round(df_local['val_loss'].min(),6))\n",
        "    prog_acc = re.compile(\"^val.*acc$|^val.*accuracy$\")\n",
        "    val_acc = [column_name for column_name in df_local.columns if prog_acc.match(column_name) != None]\n",
        "    prog_loss = re.compile(\"^val.*loss$\")\n",
        "    val_loss = [column_name for column_name in df_local.columns if prog_loss.match(column_name) != None]\n",
        "    print(\"#####################################\")\n",
        "    print(\"Current loss and val loss\")\n",
        "    print(\"#####################################\")\n",
        "    print(df_local[['loss','val_loss']].tail(1))\n",
        "    print(tabulate(df_local.nsmallest(5,'val_loss')[val_acc],headers=val_acc))\n",
        "    print(tabulate(df_local.nsmallest(5,'val_loss')[val_loss],headers=val_loss))\n",
        "    print(\"#####################################\")\n",
        "    print(df_local.loc[min_val_loss_idx][val_acc])\n",
        "    print(df_local.loc[min_val_loss_idx][val_loss])\n",
        "    if (plot_graphs == True):\n",
        "        plot_all_loss_accuracy(df_local)\n",
        "    return df_local"
      ],
      "execution_count": 0,
      "outputs": []
    },
    {
      "cell_type": "code",
      "metadata": {
        "id": "WQ3-Q3pzCC-v",
        "colab_type": "code",
        "colab": {}
      },
      "source": [
        "def describe_min_val_loss(df_plot):\n",
        "    prog_acc= re.compile(\"^val.*acc$|val_loss\")\n",
        "    val_acc = np.array([column_name for column_name in df_plot.columns if prog_acc.match(column_name) != None])\n",
        "    print(tabulate(df_plot.describe()[val_acc], headers=val_acc))\n",
        "    min_idx_val = df_plot['val_loss'].idxmin()\n",
        "    print(tabulate(df_plot.iloc[min_idx_val:min_idx_val+1][val_acc],headers=val_acc))\n"
      ],
      "execution_count": 0,
      "outputs": []
    },
    {
      "cell_type": "code",
      "metadata": {
        "id": "DD9truC1PQER",
        "colab_type": "code",
        "colab": {}
      },
      "source": [
        "def delta_between_two_dfs(df_frame1, df_frame2):\n",
        "    df_plot = df_frame1\n",
        "    min_idx_val = df_plot['val_loss'].idxmin()\n",
        "    prog_acc= re.compile(\"^val.*acc$|val_loss\")\n",
        "    val_acc = np.array([column_name for column_name in df_plot.columns if prog_acc.match(column_name) != None])\n",
        "    arr1 = df_plot.iloc[min_idx_val:min_idx_val+1][val_acc].T\n",
        "\n",
        "    df_plot_2 = df_frame2\n",
        "    min_idx_val_2 = df_plot_2['val_loss'].idxmin()\n",
        "    prog_acc= re.compile(\"^val.*acc$|val_loss\")\n",
        "    val_acc = np.array([column_name for column_name in df_plot_2.columns if prog_acc.match(column_name) != None])\n",
        "    arr2 = df_plot_2.iloc[min_idx_val_2:min_idx_val_2+1][val_acc].T\n",
        "    final_val=np.round((arr1.iloc[1:,:1].values-arr2.iloc[1:,:1].values),4)\n",
        "    final_val=final_val.reshape(final_val.shape[0],)\n",
        "    print(final_val)\n",
        "    return final_val"
      ],
      "execution_count": 0,
      "outputs": []
    },
    {
      "cell_type": "code",
      "metadata": {
        "id": "9PnaBNYiNvhV",
        "colab_type": "code",
        "colab": {}
      },
      "source": [
        "def plot_multiple_files(filenames_to_parse, plot_graphs=False):\n",
        "    df_array = []\n",
        "    for file_name_value in filenames_to_parse:\n",
        "        df_local = pd.read_json(file_name_value)\n",
        "        df_array.append(plot_from_df(df_local,plot_graphs=plot_graphs))\n",
        "    return df_array"
      ],
      "execution_count": 0,
      "outputs": []
    },
    {
      "cell_type": "code",
      "metadata": {
        "id": "Ghnh4vlMT4et",
        "colab_type": "code",
        "colab": {}
      },
      "source": [
        "plot_multiple_files(files_list[3:])"
      ],
      "execution_count": 0,
      "outputs": []
    },
    {
      "cell_type": "code",
      "metadata": {
        "id": "X_Dd1hNjNNJL",
        "colab_type": "code",
        "colab": {}
      },
      "source": [
        "def get_latestn_files(path = \"/content/gdrive/My Drive/WRN_Extend/\", pattern=\"*.json\",count=2):\n",
        "    #path = \"/content/gdrive/My Drive/WRN_Extend/\"\n",
        "    file_path = os.path.join(path)+pattern\n",
        "    files = [f for f in glob.iglob(file_path, recursive=False)]\n",
        "    latest_file = sorted(files, key=os.path.getctime,reverse=True)\n",
        "    return latest_file[:count]\n",
        "#files = os.listdir(path)\n",
        "#filenamere.split(r'/',files[len(files)-1])"
      ],
      "execution_count": 0,
      "outputs": []
    },
    {
      "cell_type": "code",
      "metadata": {
        "id": "P23Q-E6hJY0u",
        "colab_type": "code",
        "colab": {
          "base_uri": "https://localhost:8080/",
          "height": 33
        },
        "outputId": "d810e284-98c1-4908-dc89-c1d1c1002d4d"
      },
      "source": [
        "get_latestn_files(path = \"/content/gdrive/My Drive/WRN_Extend/\",pattern=\"*back*\",count=1)\n",
        "get_latestn_files(path = \"/content/gdrive/My Drive/WRN_Extend/\",pattern=\"*json\",count=1)"
      ],
      "execution_count": 58,
      "outputs": [
        {
          "output_type": "execute_result",
          "data": {
            "text/plain": [
              "'/content/gdrive/My Drive/WRN_Extend/json_wrn2_rkg_fresh_wrn_wide_rjy2_1577594233.json'"
            ]
          },
          "metadata": {
            "tags": []
          },
          "execution_count": 58
        }
      ]
    },
    {
      "cell_type": "code",
      "metadata": {
        "id": "Cy9ni4DtkIgD",
        "colab_type": "code",
        "outputId": "81f5cca9-110a-469e-e2f6-7413ac8137db",
        "colab": {
          "base_uri": "https://localhost:8080/",
          "height": 33
        }
      },
      "source": [
        "path = \"/content/gdrive/My Drive/WRN_Extend\"\n",
        "files = [f for f in glob.glob(path + \"**/*.json\", recursive=False)]\n",
        "latest_file = max(files, key=os.path.getctime)\n",
        "latest_file"
      ],
      "execution_count": 37,
      "outputs": [
        {
          "output_type": "execute_result",
          "data": {
            "text/plain": [
              "'/content/gdrive/My Drive/WRN_Extend/json_wrn2_rkg_fresh_wrn_wide_rjy2_1577594233.json'"
            ]
          },
          "metadata": {
            "tags": []
          },
          "execution_count": 37
        }
      ]
    },
    {
      "cell_type": "code",
      "metadata": {
        "id": "We8jn1nTNnC7",
        "colab_type": "code",
        "colab": {}
      },
      "source": [
        "files_list = [path+file_name for file_name in files if re.match(\"^json.*json\", file_name) != None]"
      ],
      "execution_count": 0,
      "outputs": []
    },
    {
      "cell_type": "code",
      "metadata": {
        "id": "AjgSlwvxQ10u",
        "colab_type": "code",
        "outputId": "59ddcd05-4dd1-4b3c-b6d9-cf110e0b1b80",
        "colab": {
          "base_uri": "https://localhost:8080/",
          "height": 84
        }
      },
      "source": [
        "files_list"
      ],
      "execution_count": 0,
      "outputs": [
        {
          "output_type": "execute_result",
          "data": {
            "text/plain": [
              "['/content/gdrive/My Drive/WRN2_LongRun/json_wrn2_widrn_acc_run2_sth_rkg_1577280556_round1.json',\n",
              " '/content/gdrive/My Drive/WRN2_LongRun/json_wrn2_widrn_acc_run2_sth_rkg_1577280556_round2.json',\n",
              " '/content/gdrive/My Drive/WRN2_LongRun/json_wrn2_widrn_acc_run2_sth_rkg_1577280556_round3.json',\n",
              " '/content/gdrive/My Drive/WRN2_LongRun/json_wrn2_widrn_acc_run2_sth_rkg_1577280556_round4.json']"
            ]
          },
          "metadata": {
            "tags": []
          },
          "execution_count": 78
        }
      ]
    },
    {
      "cell_type": "code",
      "metadata": {
        "id": "PckcCPJDO9V8",
        "colab_type": "code",
        "outputId": "cf8c4a20-c79f-4e2b-e3e6-673b2134247d",
        "colab": {
          "base_uri": "https://localhost:8080/",
          "height": 404
        }
      },
      "source": [
        "df_full = pd.DataFrame()\n",
        "for single_file in files_list:\n",
        "  df_local = pd.read_json(single_file)\n",
        "  #print(tabulate(df_local.head()))\n",
        "  df_full=pd.concat([df_full,df_local],ignore_index=True)\n",
        "df_full"
      ],
      "execution_count": 0,
      "outputs": [
        {
          "output_type": "execute_result",
          "data": {
            "text/html": [
              "<div>\n",
              "<style scoped>\n",
              "    .dataframe tbody tr th:only-of-type {\n",
              "        vertical-align: middle;\n",
              "    }\n",
              "\n",
              "    .dataframe tbody tr th {\n",
              "        vertical-align: top;\n",
              "    }\n",
              "\n",
              "    .dataframe thead th {\n",
              "        text-align: right;\n",
              "    }\n",
              "</style>\n",
              "<table border=\"1\" class=\"dataframe\">\n",
              "  <thead>\n",
              "    <tr style=\"text-align: right;\">\n",
              "      <th></th>\n",
              "      <th>val_loss</th>\n",
              "      <th>val_gender_output_loss</th>\n",
              "      <th>val_image_quality_output_loss</th>\n",
              "      <th>...</th>\n",
              "      <th>footwear_output_weighted_acc</th>\n",
              "      <th>emotion_output_weighted_acc</th>\n",
              "      <th>lr</th>\n",
              "    </tr>\n",
              "  </thead>\n",
              "  <tbody>\n",
              "    <tr>\n",
              "      <th>0</th>\n",
              "      <td>153.101391</td>\n",
              "      <td>0.574971</td>\n",
              "      <td>0.956121</td>\n",
              "      <td>...</td>\n",
              "      <td>0.621949</td>\n",
              "      <td>0.712326</td>\n",
              "      <td>0.000399</td>\n",
              "    </tr>\n",
              "    <tr>\n",
              "      <th>1</th>\n",
              "      <td>153.154101</td>\n",
              "      <td>0.580339</td>\n",
              "      <td>0.962072</td>\n",
              "      <td>...</td>\n",
              "      <td>0.621569</td>\n",
              "      <td>0.713585</td>\n",
              "      <td>0.000373</td>\n",
              "    </tr>\n",
              "    <tr>\n",
              "      <th>2</th>\n",
              "      <td>152.533867</td>\n",
              "      <td>0.582867</td>\n",
              "      <td>0.964389</td>\n",
              "      <td>...</td>\n",
              "      <td>0.622749</td>\n",
              "      <td>0.712326</td>\n",
              "      <td>0.000348</td>\n",
              "    </tr>\n",
              "    <tr>\n",
              "      <th>3</th>\n",
              "      <td>151.433958</td>\n",
              "      <td>0.567015</td>\n",
              "      <td>0.950655</td>\n",
              "      <td>...</td>\n",
              "      <td>0.622604</td>\n",
              "      <td>0.712504</td>\n",
              "      <td>0.000323</td>\n",
              "    </tr>\n",
              "    <tr>\n",
              "      <th>4</th>\n",
              "      <td>154.295328</td>\n",
              "      <td>0.580644</td>\n",
              "      <td>0.969409</td>\n",
              "      <td>...</td>\n",
              "      <td>0.625017</td>\n",
              "      <td>0.712587</td>\n",
              "      <td>0.000298</td>\n",
              "    </tr>\n",
              "    <tr>\n",
              "      <th>...</th>\n",
              "      <td>...</td>\n",
              "      <td>...</td>\n",
              "      <td>...</td>\n",
              "      <td>...</td>\n",
              "      <td>...</td>\n",
              "      <td>...</td>\n",
              "      <td>...</td>\n",
              "    </tr>\n",
              "    <tr>\n",
              "      <th>147</th>\n",
              "      <td>38.433751</td>\n",
              "      <td>0.439100</td>\n",
              "      <td>0.993867</td>\n",
              "      <td>...</td>\n",
              "      <td>0.679881</td>\n",
              "      <td>0.741139</td>\n",
              "      <td>0.001761</td>\n",
              "    </tr>\n",
              "    <tr>\n",
              "      <th>148</th>\n",
              "      <td>39.289790</td>\n",
              "      <td>0.493099</td>\n",
              "      <td>0.996573</td>\n",
              "      <td>...</td>\n",
              "      <td>0.686786</td>\n",
              "      <td>0.740883</td>\n",
              "      <td>0.001736</td>\n",
              "    </tr>\n",
              "    <tr>\n",
              "      <th>149</th>\n",
              "      <td>37.708232</td>\n",
              "      <td>0.454741</td>\n",
              "      <td>0.928346</td>\n",
              "      <td>...</td>\n",
              "      <td>0.680633</td>\n",
              "      <td>0.747452</td>\n",
              "      <td>0.001711</td>\n",
              "    </tr>\n",
              "    <tr>\n",
              "      <th>150</th>\n",
              "      <td>38.042907</td>\n",
              "      <td>0.444139</td>\n",
              "      <td>0.976239</td>\n",
              "      <td>...</td>\n",
              "      <td>0.685385</td>\n",
              "      <td>0.755923</td>\n",
              "      <td>0.001685</td>\n",
              "    </tr>\n",
              "    <tr>\n",
              "      <th>151</th>\n",
              "      <td>37.212058</td>\n",
              "      <td>0.422471</td>\n",
              "      <td>0.954822</td>\n",
              "      <td>...</td>\n",
              "      <td>0.684635</td>\n",
              "      <td>0.744051</td>\n",
              "      <td>0.001660</td>\n",
              "    </tr>\n",
              "  </tbody>\n",
              "</table>\n",
              "<p>152 rows × 35 columns</p>\n",
              "</div>"
            ],
            "text/plain": [
              "       val_loss  val_gender_output_loss  val_image_quality_output_loss  ...  \\\n",
              "0    153.101391                0.574971                       0.956121  ...   \n",
              "1    153.154101                0.580339                       0.962072  ...   \n",
              "2    152.533867                0.582867                       0.964389  ...   \n",
              "3    151.433958                0.567015                       0.950655  ...   \n",
              "4    154.295328                0.580644                       0.969409  ...   \n",
              "..          ...                     ...                            ...  ...   \n",
              "147   38.433751                0.439100                       0.993867  ...   \n",
              "148   39.289790                0.493099                       0.996573  ...   \n",
              "149   37.708232                0.454741                       0.928346  ...   \n",
              "150   38.042907                0.444139                       0.976239  ...   \n",
              "151   37.212058                0.422471                       0.954822  ...   \n",
              "\n",
              "     footwear_output_weighted_acc  emotion_output_weighted_acc        lr  \n",
              "0                        0.621949                     0.712326  0.000399  \n",
              "1                        0.621569                     0.713585  0.000373  \n",
              "2                        0.622749                     0.712326  0.000348  \n",
              "3                        0.622604                     0.712504  0.000323  \n",
              "4                        0.625017                     0.712587  0.000298  \n",
              "..                            ...                          ...       ...  \n",
              "147                      0.679881                     0.741139  0.001761  \n",
              "148                      0.686786                     0.740883  0.001736  \n",
              "149                      0.680633                     0.747452  0.001711  \n",
              "150                      0.685385                     0.755923  0.001685  \n",
              "151                      0.684635                     0.744051  0.001660  \n",
              "\n",
              "[152 rows x 35 columns]"
            ]
          },
          "metadata": {
            "tags": []
          },
          "execution_count": 79
        }
      ]
    },
    {
      "cell_type": "code",
      "metadata": {
        "id": "pJ3vRDYkV28K",
        "colab_type": "code",
        "colab": {}
      },
      "source": [
        "df_full.to_csv('/content/gdrive/My Drive/WRN2_LongRun/200_epoch_wrn2.csv', index=False)"
      ],
      "execution_count": 0,
      "outputs": []
    },
    {
      "cell_type": "code",
      "metadata": {
        "id": "JxfTLgzTlxs0",
        "colab_type": "code",
        "outputId": "977f21b0-d775-4389-baa3-e16675cf14a5",
        "colab": {
          "base_uri": "https://localhost:8080/",
          "height": 161
        }
      },
      "source": [
        "df_full.iloc[50:52]"
      ],
      "execution_count": 0,
      "outputs": [
        {
          "output_type": "execute_result",
          "data": {
            "text/html": [
              "<div>\n",
              "<style scoped>\n",
              "    .dataframe tbody tr th:only-of-type {\n",
              "        vertical-align: middle;\n",
              "    }\n",
              "\n",
              "    .dataframe tbody tr th {\n",
              "        vertical-align: top;\n",
              "    }\n",
              "\n",
              "    .dataframe thead th {\n",
              "        text-align: right;\n",
              "    }\n",
              "</style>\n",
              "<table border=\"1\" class=\"dataframe\">\n",
              "  <thead>\n",
              "    <tr style=\"text-align: right;\">\n",
              "      <th></th>\n",
              "      <th>val_loss</th>\n",
              "      <th>val_gender_output_loss</th>\n",
              "      <th>val_image_quality_output_loss</th>\n",
              "      <th>...</th>\n",
              "      <th>footwear_output_weighted_acc</th>\n",
              "      <th>emotion_output_weighted_acc</th>\n",
              "      <th>lr</th>\n",
              "    </tr>\n",
              "  </thead>\n",
              "  <tbody>\n",
              "    <tr>\n",
              "      <th>52</th>\n",
              "      <td>33.259689</td>\n",
              "      <td>0.689699</td>\n",
              "      <td>0.998956</td>\n",
              "      <td>...</td>\n",
              "      <td>0.445724</td>\n",
              "      <td>0.713155</td>\n",
              "      <td>0.000189</td>\n",
              "    </tr>\n",
              "    <tr>\n",
              "      <th>53</th>\n",
              "      <td>32.882381</td>\n",
              "      <td>0.691303</td>\n",
              "      <td>0.986027</td>\n",
              "      <td>...</td>\n",
              "      <td>0.484511</td>\n",
              "      <td>0.712847</td>\n",
              "      <td>0.002097</td>\n",
              "    </tr>\n",
              "  </tbody>\n",
              "</table>\n",
              "<p>2 rows × 35 columns</p>\n",
              "</div>"
            ],
            "text/plain": [
              "     val_loss  val_gender_output_loss  val_image_quality_output_loss  ...  \\\n",
              "52  33.259689                0.689699                       0.998956  ...   \n",
              "53  32.882381                0.691303                       0.986027  ...   \n",
              "\n",
              "    footwear_output_weighted_acc  emotion_output_weighted_acc        lr  \n",
              "52                      0.445724                     0.713155  0.000189  \n",
              "53                      0.484511                     0.712847  0.002097  \n",
              "\n",
              "[2 rows x 35 columns]"
            ]
          },
          "metadata": {
            "tags": []
          },
          "execution_count": 100
        }
      ]
    },
    {
      "cell_type": "code",
      "metadata": {
        "id": "XRJhhy9ISQEM",
        "colab_type": "code",
        "colab": {}
      },
      "source": [
        "plot_from_df(df_full)\n"
      ],
      "execution_count": 0,
      "outputs": []
    },
    {
      "cell_type": "code",
      "metadata": {
        "id": "9nnDJ1z_PV79",
        "colab_type": "code",
        "colab": {}
      },
      "source": [
        "df_array = plot_multiple_files(plotter_files)"
      ],
      "execution_count": 0,
      "outputs": []
    },
    {
      "cell_type": "code",
      "metadata": {
        "id": "diLZSJLkLmaP",
        "colab_type": "code",
        "colab": {}
      },
      "source": [
        "def "
      ],
      "execution_count": 0,
      "outputs": []
    },
    {
      "cell_type": "code",
      "metadata": {
        "id": "ADvCKIg1LA3h",
        "colab_type": "code",
        "colab": {}
      },
      "source": [
        "def plot_latest_from_path(path):\n",
        "    filenames_to_parse = get_latestn_files(path = path,pattern=\"*backup\",count=2)\n",
        "                        # [\n",
        "                        #   get_latestn_files(path = path,pattern=\"*json\",count=1)[0],\n",
        "                        #   get_latestn_files(path = path,pattern=\"*back*\",count=1)[0]                          \n",
        "                        # ]\n",
        "    print(filenames_to_parse)\n",
        "    return plot_multiple_files(filenames_to_parse)"
      ],
      "execution_count": 0,
      "outputs": []
    },
    {
      "cell_type": "code",
      "metadata": {
        "id": "6x7pLz8FLefZ",
        "colab_type": "code",
        "colab": {}
      },
      "source": [
        "df_array = plot_latest_from_path(\"/content/gdrive/My Drive/WRN_Base/\")"
      ],
      "execution_count": 0,
      "outputs": []
    },
    {
      "cell_type": "code",
      "metadata": {
        "id": "jVhPZg45Qvnc",
        "colab_type": "code",
        "colab": {}
      },
      "source": [
        "get_latestn_files(path = path,pattern=\"*backup\",count=2)"
      ],
      "execution_count": 0,
      "outputs": []
    },
    {
      "cell_type": "code",
      "metadata": {
        "id": "MB3i688kSPWk",
        "colab_type": "code",
        "colab": {
          "base_uri": "https://localhost:8080/",
          "height": 33
        },
        "outputId": "f1e054e3-b1d0-41a4-b74c-77fc9fbce24a"
      },
      "source": [
        "get_latestn_files(path = '/content/gdrive/My Drive/WRN_Extend/',pattern=\"*backup\",count=1)[0]"
      ],
      "execution_count": 89,
      "outputs": [
        {
          "output_type": "execute_result",
          "data": {
            "text/plain": [
              "'/content/gdrive/My Drive/WRN_Extend/json_wrn2_rkg_fresh_wrn_wide_rjy2_1577594233.json1577602245_backup'"
            ]
          },
          "metadata": {
            "tags": []
          },
          "execution_count": 89
        }
      ]
    },
    {
      "cell_type": "code",
      "metadata": {
        "id": "K79wkAn0Xm7k",
        "colab_type": "code",
        "colab": {
          "base_uri": "https://localhost:8080/",
          "height": 67
        },
        "outputId": "037c0d16-b16c-4a28-939f-a70ed80c0782"
      },
      "source": [
        "get_latestn_files(path = '/content/gdrive/My Drive/WRN_Base/',pattern=\"*backup\",count=3)"
      ],
      "execution_count": 35,
      "outputs": [
        {
          "output_type": "execute_result",
          "data": {
            "text/plain": [
              "['/content/gdrive/My Drive/WRN_Base/json_wrn2_rkg_fresh_wrn_rjy2_1577595402.json1577603395_backup',\n",
              " '/content/gdrive/My Drive/WRN_Base/json_wrn2_rkg_fresh_wrn_rjy2_1577595402.json1577599252_backup',\n",
              " '/content/gdrive/My Drive/WRN_Base/json_wrn2_rkg_fresh_wrn_rjy2_1577595402.json1577599222_backup']"
            ]
          },
          "metadata": {
            "tags": []
          },
          "execution_count": 35
        }
      ]
    },
    {
      "cell_type": "code",
      "metadata": {
        "id": "y1FGO8rbsYDE",
        "colab_type": "code",
        "colab": {
          "base_uri": "https://localhost:8080/",
          "height": 33
        },
        "outputId": "551ccbbf-2aa2-4b7a-a9ed-64196f40d8c9"
      },
      "source": [
        "get_latestn_files(path = '/content/gdrive/My Drive/WRN_Base/',pattern=\"*json\",count=1)[0]"
      ],
      "execution_count": 75,
      "outputs": [
        {
          "output_type": "execute_result",
          "data": {
            "text/plain": [
              "'/content/gdrive/My Drive/WRN_Base/json_wrn2_rkg_fresh_wrn_rjy2_1577595402.json'"
            ]
          },
          "metadata": {
            "tags": []
          },
          "execution_count": 75
        }
      ]
    },
    {
      "cell_type": "code",
      "metadata": {
        "id": "MFIO5nbtEd_e",
        "colab_type": "code",
        "colab": {}
      },
      "source": [
        "baseline_file_wide2='/content/gdrive/My Drive/WRN_Extend/json_wrn2_rkg_fresh_wrn_wide_rjy2_gml2_1577624977.json1577628048_backup'\n",
        "baseline_file_wide='/content/gdrive/My Drive/WRN_Extend/json_wrn2_rkg_fresh_wrn_wide_rjy2_gml2_1577624977.json1577628048_backup'"
      ],
      "execution_count": 0,
      "outputs": []
    },
    {
      "cell_type": "code",
      "metadata": {
        "id": "3QjoVBhNa9UO",
        "colab_type": "code",
        "colab": {
          "base_uri": "https://localhost:8080/",
          "height": 67
        },
        "outputId": "6e681cdb-5cfa-4232-b757-3862c55fe7a9"
      },
      "source": [
        "get_latestn_files(path = '/content/gdrive/My Drive/WRN_Base/',pattern=\"*backup\",count=3)"
      ],
      "execution_count": 81,
      "outputs": [
        {
          "output_type": "execute_result",
          "data": {
            "text/plain": [
              "['/content/gdrive/My Drive/WRN_Base/json_wrn2_rkg_fresh_wrn_rjy2_gml2_1577624484.json1577627329_backup',\n",
              " '/content/gdrive/My Drive/WRN_Base/json_wrn2_rkg_fresh_wrn_rjy2_1577595402.json1577603395_backup',\n",
              " '/content/gdrive/My Drive/WRN_Base/json_wrn2_rkg_fresh_wrn_rjy2_1577595402.json1577599252_backup']"
            ]
          },
          "metadata": {
            "tags": []
          },
          "execution_count": 81
        }
      ]
    },
    {
      "cell_type": "code",
      "metadata": {
        "id": "R0f7rQhHcWi2",
        "colab_type": "code",
        "colab": {
          "base_uri": "https://localhost:8080/",
          "height": 1000
        },
        "outputId": "174c57d7-f6b3-439c-f75a-b1cab9017957"
      },
      "source": [
        "filenames_to_parse = [   \n",
        "            #get_latestn_files(path = '/content/gdrive/My Drive/WRN_Wide2/',pattern=\"*json\",count=1)[0],\n",
        "            '/content/gdrive/My Drive/WRN_Wide2/json_wrn2_rkg_fresh_wrn_wide_rjy2_gml22_1577629016.json1577639769_backup',\n",
        "            #'/content/gdrive/My Drive/WRN_Wide2/json_wrn2_rkg_fresh_wrn_wide_rjy2_gml22_1577629016.json1577634527_backup',\n",
        "            #'/content/gdrive/My Drive/WRN_Wide2/json_wrn2_rkg_fresh_wrn_rjy2_gml2_1577624484.json1577627329_backup',\n",
        "            #get_latestn_files(path = '/content/gdrive/My Drive/WRN_Base/',pattern=\"*backup\",count=3)[2]\n",
        "            baseline_file_wide2\n",
        "            \n",
        "]\n",
        "print(filenames_to_parse)\n",
        "df_array = plot_multiple_files(filenames_to_parse,plot_graphs=False)"
      ],
      "execution_count": 121,
      "outputs": [
        {
          "output_type": "stream",
          "text": [
            "['/content/gdrive/My Drive/WRN_Wide2/json_wrn2_rkg_fresh_wrn_wide_rjy2_gml22_1577629016.json1577639769_backup', '/content/gdrive/My Drive/WRN_Extend/json_wrn2_rkg_fresh_wrn_wide_rjy2_gml2_1577624977.json1577628048_backup']\n",
            "#####################################\n",
            "Epochs: 9 Min val_loss: 20.275822\n",
            "#####################################\n",
            "Current loss and val loss\n",
            "#####################################\n",
            "        loss   val_loss\n",
            "9  19.522597  20.797816\n",
            "      val_gender_output_acc    val_image_quality_output_acc    val_age_output_acc    val_weight_output_acc    val_bag_output_acc    val_pose_output_acc    val_footwear_output_acc    val_emotion_output_acc\n",
            "--  -----------------------  ------------------------------  --------------------  -----------------------  --------------------  ---------------------  -------------------------  ------------------------\n",
            " 7                 0.886811                        0.530512              0.438976                 0.620571              0.68061                0.852362                   0.668307                  0.671752\n",
            " 0                 0.875492                        0.529528              0.429626                 0.624508              0.675197               0.857776                   0.667815                  0.671752\n",
            " 8                 0.89124                         0.513287              0.426673                 0.627953              0.678642               0.850394                   0.667815                  0.661909\n",
            " 3                 0.852362                        0.539862              0.417323                 0.624508              0.646654               0.821358                   0.669291                  0.705217\n",
            " 9                 0.862697                        0.513287              0.40502                  0.626969              0.660433               0.842028                   0.665354                  0.666831\n",
            "      val_loss    val_gender_output_loss    val_image_quality_output_loss    val_age_output_loss    val_weight_output_loss    val_bag_output_loss    val_pose_output_loss    val_footwear_output_loss    val_emotion_output_loss\n",
            "--  ----------  ------------------------  -------------------------------  ---------------------  ------------------------  ---------------------  ----------------------  --------------------------  -------------------------\n",
            " 7     20.2758                  0.294678                         1.0378                  1.28225                  0.950904               0.781593                0.423656                    0.792244                   0.895212\n",
            " 0     20.3416                  0.325377                         1.0451                  1.27805                  0.94609                0.790085                0.423734                    0.782456                   0.902667\n",
            " 8     20.5092                  0.30577                          1.05436                 1.29115                  0.954649               0.788296                0.447857                    0.794988                   0.904142\n",
            " 3     20.7042                  0.366263                         0.948582                1.31534                  0.954014               0.819229                0.476715                    0.784963                   0.911419\n",
            " 9     20.7978                  0.359801                         1.06495                 1.31264                  0.937493               0.817515                0.445749                    0.804848                   0.910682\n",
            "#####################################\n",
            "val_gender_output_acc           0.886811\n",
            "val_image_quality_output_acc    0.530512\n",
            "val_age_output_acc              0.438976\n",
            "val_weight_output_acc           0.620571\n",
            "val_bag_output_acc              0.680610\n",
            "val_pose_output_acc             0.852362\n",
            "val_footwear_output_acc         0.668307\n",
            "val_emotion_output_acc          0.671752\n",
            "Name: 7, dtype: float64\n",
            "val_loss                         20.275822\n",
            "val_gender_output_loss            0.294678\n",
            "val_image_quality_output_loss     1.037798\n",
            "val_age_output_loss               1.282248\n",
            "val_weight_output_loss            0.950904\n",
            "val_bag_output_loss               0.781593\n",
            "val_pose_output_loss              0.423656\n",
            "val_footwear_output_loss          0.792244\n",
            "val_emotion_output_loss           0.895212\n",
            "Name: 7, dtype: float64\n",
            "#####################################\n",
            "Epochs: 17 Min val_loss: 19.924306\n",
            "#####################################\n",
            "Current loss and val loss\n",
            "#####################################\n",
            "         loss   val_loss\n",
            "17  19.726057  20.461137\n",
            "      val_gender_output_acc    val_image_quality_output_acc    val_age_output_acc    val_weight_output_acc    val_bag_output_acc    val_pose_output_acc    val_footwear_output_acc    val_emotion_output_acc\n",
            "--  -----------------------  ------------------------------  --------------------  -----------------------  --------------------  ---------------------  -------------------------  ------------------------\n",
            " 7                 0.886319                        0.562008              0.435039                 0.619587              0.670276               0.855315                   0.670768                  0.679134\n",
            " 8                 0.885335                        0.54626               0.435039                 0.628445              0.684055               0.847441                   0.667323                  0.693406\n",
            "15                 0.879921                        0.547244              0.420276                 0.622047              0.68061                0.85187                    0.677165                  0.676181\n",
            "17                 0.879429                        0.511811              0.429626                 0.615157              0.673228               0.841043                   0.674213                  0.689961\n",
            "11                 0.86565                         0.556594              0.406988                 0.619587              0.664862               0.815945                   0.655512                  0.692421\n",
            "      val_loss    val_gender_output_loss    val_image_quality_output_loss    val_age_output_loss    val_weight_output_loss    val_bag_output_loss    val_pose_output_loss    val_footwear_output_loss    val_emotion_output_loss\n",
            "--  ----------  ------------------------  -------------------------------  ---------------------  ------------------------  ---------------------  ----------------------  --------------------------  -------------------------\n",
            " 7     19.9243                  0.294284                         0.93889                 1.26895                  0.949657               0.780057                0.423075                    0.779725                   0.894584\n",
            " 8     20.0367                  0.299368                         0.968916                1.26874                  0.94454                0.776878                0.440584                    0.787965                   0.894946\n",
            "15     20.1678                  0.306162                         0.994198                1.27664                  0.942571               0.785849                0.429514                    0.775723                   0.908853\n",
            "17     20.4611                  0.306071                         1.04582                 1.30075                  0.971573               0.803438                0.442967                    0.778661                   0.887029\n",
            "11     20.7169                  0.326804                         0.954173                1.32867                  0.966351               0.804423                0.502353                    0.836872                   0.887519\n",
            "#####################################\n",
            "val_gender_output_acc           0.886319\n",
            "val_image_quality_output_acc    0.562008\n",
            "val_age_output_acc              0.435039\n",
            "val_weight_output_acc           0.619587\n",
            "val_bag_output_acc              0.670276\n",
            "val_pose_output_acc             0.855315\n",
            "val_footwear_output_acc         0.670768\n",
            "val_emotion_output_acc          0.679134\n",
            "Name: 7, dtype: float64\n",
            "val_loss                         19.924306\n",
            "val_gender_output_loss            0.294284\n",
            "val_image_quality_output_loss     0.938890\n",
            "val_age_output_loss               1.268954\n",
            "val_weight_output_loss            0.949657\n",
            "val_bag_output_loss               0.780057\n",
            "val_pose_output_loss              0.423075\n",
            "val_footwear_output_loss          0.779725\n",
            "val_emotion_output_loss           0.894584\n",
            "Name: 7, dtype: float64\n"
          ],
          "name": "stdout"
        }
      ]
    },
    {
      "cell_type": "code",
      "metadata": {
        "id": "u713w8UdPPje",
        "colab_type": "code",
        "colab": {
          "base_uri": "https://localhost:8080/",
          "height": 522
        },
        "outputId": "9e5d6836-fc7e-4bc9-e7ad-94b59051872d"
      },
      "source": [
        "for pos in range(len(df_array)):\n",
        "    describe_min_val_loss(df_array[pos])\n",
        "#describe_min_val_loss(df_array[1])\n",
        "out_arr=delta_between_two_dfs(df_array[0],df_array[1])\n",
        "print(out_arr*100.0)\n",
        "out_arr.sum()*100.0"
      ],
      "execution_count": 122,
      "outputs": [
        {
          "output_type": "stream",
          "text": [
            "         val_loss    val_gender_output_acc    val_image_quality_output_acc    val_age_output_acc    val_weight_output_acc    val_bag_output_acc    val_pose_output_acc    val_footwear_output_acc    val_emotion_output_acc\n",
            "-----  ----------  -----------------------  ------------------------------  --------------------  -----------------------  --------------------  ---------------------  -------------------------  ------------------------\n",
            "count   10                       10                             10                    10                       10                    10                      10                       10                         10\n",
            "mean    21.0785                   0.868455                       0.50502               0.413681                 0.612795              0.666486                0.836909                 0.665256                   0.668553\n",
            "std      0.819312                 0.017812                       0.0322432             0.0232433                0.0239937             0.0138905               0.018529                 0.00676681                 0.0260122\n",
            "min     20.2758                   0.838091                       0.44439               0.354331                 0.562992              0.645669                0.79626                  0.650098                   0.609744\n",
            "25%     20.5579                   0.854946                       0.504798              0.41031                  0.617987              0.65748                 0.827018                 0.662771                   0.66314\n",
            "50%     20.8746                   0.871555                       0.513287              0.417323                 0.62377               0.668307                0.843504                 0.667815                   0.671752\n",
            "75%     21.0979                   0.882628                       0.525714              0.42655                  0.626353              0.677781                0.849409                 0.669045                   0.675812\n",
            "max     22.6309                   0.89124                        0.539862              0.438976                 0.627953              0.684547                0.857776                 0.672736                   0.705217\n",
            "      val_loss    val_gender_output_acc    val_image_quality_output_acc    val_age_output_acc    val_weight_output_acc    val_bag_output_acc    val_pose_output_acc    val_footwear_output_acc    val_emotion_output_acc\n",
            "--  ----------  -----------------------  ------------------------------  --------------------  -----------------------  --------------------  ---------------------  -------------------------  ------------------------\n",
            " 7     20.2758                 0.886811                        0.530512              0.438976                 0.620571               0.68061               0.852362                   0.668307                  0.671752\n",
            "         val_loss    val_gender_output_acc    val_image_quality_output_acc    val_age_output_acc    val_weight_output_acc    val_bag_output_acc    val_pose_output_acc    val_footwear_output_acc    val_emotion_output_acc\n",
            "-----  ----------  -----------------------  ------------------------------  --------------------  -----------------------  --------------------  ---------------------  -------------------------  ------------------------\n",
            "count   18                      18                              18                    18                       18                    18                     18                         18                        18\n",
            "mean    20.9451                  0.866716                        0.506206              0.416967                 0.60824               0.666284               0.829342                   0.660187                  0.679353\n",
            "std      0.631903                0.0119433                       0.0438046             0.0137493                0.0150178             0.0145547              0.0279352                  0.0139565                 0.0164906\n",
            "min     19.9243                  0.845965                        0.397638              0.382382                 0.574803              0.624508               0.734744                   0.627461                  0.639272\n",
            "25%     20.718                   0.862451                        0.480192              0.412156                 0.595719              0.659818               0.824065                   0.650714                  0.673967\n",
            "50%     20.8596                  0.86565                         0.509596              0.419537                 0.612943              0.668307               0.833169                   0.662402                  0.68061\n",
            "75%     21.3336                  0.874631                        0.541216              0.424459                 0.619587              0.673105               0.847441                   0.670276                  0.691806\n",
            "max     22.4823                  0.886319                        0.562008              0.435039                 0.628445              0.685531               0.855315                   0.677165                  0.699311\n",
            "      val_loss    val_gender_output_acc    val_image_quality_output_acc    val_age_output_acc    val_weight_output_acc    val_bag_output_acc    val_pose_output_acc    val_footwear_output_acc    val_emotion_output_acc\n",
            "--  ----------  -----------------------  ------------------------------  --------------------  -----------------------  --------------------  ---------------------  -------------------------  ------------------------\n",
            " 7     19.9243                 0.886319                        0.562008              0.435039                 0.619587              0.670276               0.855315                   0.670768                  0.679134\n",
            "[ 0.0005 -0.0315  0.0039  0.001   0.0103 -0.003  -0.0025 -0.0074]\n",
            "[ 0.05 -3.15  0.39  0.1   1.03 -0.3  -0.25 -0.74]\n"
          ],
          "name": "stdout"
        },
        {
          "output_type": "execute_result",
          "data": {
            "text/plain": [
              "-2.87"
            ]
          },
          "metadata": {
            "tags": []
          },
          "execution_count": 122
        }
      ]
    },
    {
      "cell_type": "code",
      "metadata": {
        "id": "Dv5DY_L1OoR0",
        "colab_type": "code",
        "outputId": "5bbc1b11-cd2c-4330-b57d-fd71115ce790",
        "colab": {
          "base_uri": "https://localhost:8080/",
          "height": 1000
        }
      },
      "source": [
        "filenames_to_parse = [   \n",
        "            get_latestn_files(path = '/content/gdrive/My Drive/WRN_Extend/',pattern=\"*json\",count=1)[0],\n",
        "            #'/content/gdrive/My Drive/WRN_Extend/json_wrn2_rkg_fresh_wrn_wide_rjy2_gml2_1577624977.json1577635049_backup',\n",
        "            #get_latestn_files(path = '/content/gdrive/My Drive/WRN_Extend/',pattern=\"*backup\",count=1)[0]\n",
        "            #'/content/gdrive/My Drive/WRN_Extend/json_wrn2_rkg_fresh_wrn_wide_rjy2_1577594233.json1577618037_backup'\n",
        "            baseline_file_wide\n",
        "]\n",
        "print(filenames_to_parse)\n",
        "df_array_wide = plot_multiple_files(filenames_to_parse,plot_graphs=False)"
      ],
      "execution_count": 119,
      "outputs": [
        {
          "output_type": "stream",
          "text": [
            "['/content/gdrive/My Drive/WRN_Extend/json_wrn2_rkg_fresh_wrn_wide_rjy2_gml2_1577624977.json', '/content/gdrive/My Drive/WRN_Extend/json_wrn2_rkg_fresh_wrn_wide_rjy2_gml2_1577624977.json1577628048_backup']\n",
            "#####################################\n",
            "Epochs: 5 Min val_loss: 13.754861\n",
            "#####################################\n",
            "Current loss and val loss\n",
            "#####################################\n",
            "        loss   val_loss\n",
            "5  13.304895  13.754861\n",
            "      val_gender_output_acc    val_image_quality_output_acc    val_age_output_acc    val_weight_output_acc    val_bag_output_acc    val_pose_output_acc    val_footwear_output_acc    val_emotion_output_acc\n",
            "--  -----------------------  ------------------------------  --------------------  -----------------------  --------------------  ---------------------  -------------------------  ------------------------\n",
            " 5                 0.862205                        0.537894              0.424213                 0.621063              0.666339               0.840059                   0.670768                  0.679626\n",
            " 1                 0.885335                        0.510827              0.436516                 0.606791              0.663386               0.839075                   0.660925                  0.63189\n",
            " 4                 0.869587                        0.515256              0.417323                 0.60187               0.65748                0.837106                   0.662894                  0.653543\n",
            " 0                 0.893701                        0.474902              0.417815                 0.620079              0.682579               0.829232                   0.658465                  0.693898\n",
            " 2                 0.876476                        0.46752               0.418799                 0.609252              0.555118               0.851378                   0.662894                  0.663878\n",
            "      val_loss    val_gender_output_loss    val_image_quality_output_loss    val_age_output_loss    val_weight_output_loss    val_bag_output_loss    val_pose_output_loss    val_footwear_output_loss    val_emotion_output_loss\n",
            "--  ----------  ------------------------  -------------------------------  ---------------------  ------------------------  ---------------------  ----------------------  --------------------------  -------------------------\n",
            " 5     13.7549                  0.331094                          1.00103                1.28716                  0.946282               0.800143                0.444297                    0.784002                   0.907068\n",
            " 1     14.1091                  0.298332                          1.05448                1.29584                  0.965438               0.801533                0.467345                    0.793788                   0.95245\n",
            " 4     14.2716                  0.313437                          1.12552                1.32246                  1.00222                0.816599                0.464118                    0.807492                   0.920364\n",
            " 0     14.2956                  0.301026                          1.24811                1.31136                  0.95691                0.785671                0.485714                    0.806527                   0.89167\n",
            " 2     15.2118                  0.329816                          1.1663                 1.33304                  0.974619               1.24568                 0.472659                    0.80391                    0.916114\n",
            "#####################################\n",
            "val_gender_output_acc           0.862205\n",
            "val_image_quality_output_acc    0.537894\n",
            "val_age_output_acc              0.424213\n",
            "val_weight_output_acc           0.621063\n",
            "val_bag_output_acc              0.666339\n",
            "val_pose_output_acc             0.840059\n",
            "val_footwear_output_acc         0.670768\n",
            "val_emotion_output_acc          0.679626\n",
            "Name: 5, dtype: float64\n",
            "val_loss                         13.754861\n",
            "val_gender_output_loss            0.331094\n",
            "val_image_quality_output_loss     1.001029\n",
            "val_age_output_loss               1.287156\n",
            "val_weight_output_loss            0.946282\n",
            "val_bag_output_loss               0.800143\n",
            "val_pose_output_loss              0.444297\n",
            "val_footwear_output_loss          0.784002\n",
            "val_emotion_output_loss           0.907068\n",
            "Name: 5, dtype: float64\n",
            "#####################################\n",
            "Epochs: 17 Min val_loss: 19.924306\n",
            "#####################################\n",
            "Current loss and val loss\n",
            "#####################################\n",
            "         loss   val_loss\n",
            "17  19.726057  20.461137\n",
            "      val_gender_output_acc    val_image_quality_output_acc    val_age_output_acc    val_weight_output_acc    val_bag_output_acc    val_pose_output_acc    val_footwear_output_acc    val_emotion_output_acc\n",
            "--  -----------------------  ------------------------------  --------------------  -----------------------  --------------------  ---------------------  -------------------------  ------------------------\n",
            " 7                 0.886319                        0.562008              0.435039                 0.619587              0.670276               0.855315                   0.670768                  0.679134\n",
            " 8                 0.885335                        0.54626               0.435039                 0.628445              0.684055               0.847441                   0.667323                  0.693406\n",
            "15                 0.879921                        0.547244              0.420276                 0.622047              0.68061                0.85187                    0.677165                  0.676181\n",
            "17                 0.879429                        0.511811              0.429626                 0.615157              0.673228               0.841043                   0.674213                  0.689961\n",
            "11                 0.86565                         0.556594              0.406988                 0.619587              0.664862               0.815945                   0.655512                  0.692421\n",
            "      val_loss    val_gender_output_loss    val_image_quality_output_loss    val_age_output_loss    val_weight_output_loss    val_bag_output_loss    val_pose_output_loss    val_footwear_output_loss    val_emotion_output_loss\n",
            "--  ----------  ------------------------  -------------------------------  ---------------------  ------------------------  ---------------------  ----------------------  --------------------------  -------------------------\n",
            " 7     19.9243                  0.294284                         0.93889                 1.26895                  0.949657               0.780057                0.423075                    0.779725                   0.894584\n",
            " 8     20.0367                  0.299368                         0.968916                1.26874                  0.94454                0.776878                0.440584                    0.787965                   0.894946\n",
            "15     20.1678                  0.306162                         0.994198                1.27664                  0.942571               0.785849                0.429514                    0.775723                   0.908853\n",
            "17     20.4611                  0.306071                         1.04582                 1.30075                  0.971573               0.803438                0.442967                    0.778661                   0.887029\n",
            "11     20.7169                  0.326804                         0.954173                1.32867                  0.966351               0.804423                0.502353                    0.836872                   0.887519\n",
            "#####################################\n",
            "val_gender_output_acc           0.886319\n",
            "val_image_quality_output_acc    0.562008\n",
            "val_age_output_acc              0.435039\n",
            "val_weight_output_acc           0.619587\n",
            "val_bag_output_acc              0.670276\n",
            "val_pose_output_acc             0.855315\n",
            "val_footwear_output_acc         0.670768\n",
            "val_emotion_output_acc          0.679134\n",
            "Name: 7, dtype: float64\n",
            "val_loss                         19.924306\n",
            "val_gender_output_loss            0.294284\n",
            "val_image_quality_output_loss     0.938890\n",
            "val_age_output_loss               1.268954\n",
            "val_weight_output_loss            0.949657\n",
            "val_bag_output_loss               0.780057\n",
            "val_pose_output_loss              0.423075\n",
            "val_footwear_output_loss          0.779725\n",
            "val_emotion_output_loss           0.894584\n",
            "Name: 7, dtype: float64\n"
          ],
          "name": "stdout"
        }
      ]
    },
    {
      "cell_type": "code",
      "metadata": {
        "id": "cK2_j7gaCiuZ",
        "colab_type": "code",
        "outputId": "cac5f122-52f0-4c15-8510-6c3b5c5abc80",
        "colab": {
          "base_uri": "https://localhost:8080/",
          "height": 522
        }
      },
      "source": [
        "for pos in range(len(df_array_wide)):\n",
        "    describe_min_val_loss(df_array_wide[pos])\n",
        "#describe_min_val_loss(df_array[1])\n",
        "out_arr=delta_between_two_dfs(df_array_wide[0],df_array_wide[1])\n",
        "print(out_arr*100.0)\n",
        "out_arr.sum()*100.0"
      ],
      "execution_count": 120,
      "outputs": [
        {
          "output_type": "stream",
          "text": [
            "         val_loss    val_gender_output_acc    val_image_quality_output_acc    val_age_output_acc    val_weight_output_acc    val_bag_output_acc    val_pose_output_acc    val_footwear_output_acc    val_emotion_output_acc\n",
            "-----  ----------  -----------------------  ------------------------------  --------------------  -----------------------  --------------------  ---------------------  -------------------------  ------------------------\n",
            "count    6                       6                               6                     6                        6                     6                      6                          6                         6\n",
            "mean    14.4862                  0.874098                        0.489173              0.418717                 0.60269               0.648048               0.8344                     0.656988                  0.662648\n",
            "std      0.617542                0.0138616                       0.0396472             0.0126023                0.0235803             0.0463084              0.0140984                  0.0157388                 0.0218512\n",
            "min     13.7549                  0.857283                        0.428642              0.397638                 0.557087              0.555118               0.809547                   0.625984                  0.63189\n",
            "25%     14.1497                  0.86405                         0.469365              0.417446                 0.6031                0.658957               0.831201                   0.65908                   0.653174\n",
            "50%     14.2836                  0.873031                        0.492864              0.418307                 0.608022              0.663386               0.838091                   0.661909                  0.658711\n",
            "75%     14.9827                  0.88312                         0.514149              0.422859                 0.617372              0.6656                 0.839813                   0.662894                  0.675689\n",
            "max     15.2742                  0.893701                        0.537894              0.436516                 0.621063              0.682579               0.851378                   0.670768                  0.693898\n",
            "      val_loss    val_gender_output_acc    val_image_quality_output_acc    val_age_output_acc    val_weight_output_acc    val_bag_output_acc    val_pose_output_acc    val_footwear_output_acc    val_emotion_output_acc\n",
            "--  ----------  -----------------------  ------------------------------  --------------------  -----------------------  --------------------  ---------------------  -------------------------  ------------------------\n",
            " 5     13.7549                 0.862205                        0.537894              0.424213                 0.621063              0.666339               0.840059                   0.670768                  0.679626\n",
            "         val_loss    val_gender_output_acc    val_image_quality_output_acc    val_age_output_acc    val_weight_output_acc    val_bag_output_acc    val_pose_output_acc    val_footwear_output_acc    val_emotion_output_acc\n",
            "-----  ----------  -----------------------  ------------------------------  --------------------  -----------------------  --------------------  ---------------------  -------------------------  ------------------------\n",
            "count   18                      18                              18                    18                       18                    18                     18                         18                        18\n",
            "mean    20.9451                  0.866716                        0.506206              0.416967                 0.60824               0.666284               0.829342                   0.660187                  0.679353\n",
            "std      0.631903                0.0119433                       0.0438046             0.0137493                0.0150178             0.0145547              0.0279352                  0.0139565                 0.0164906\n",
            "min     19.9243                  0.845965                        0.397638              0.382382                 0.574803              0.624508               0.734744                   0.627461                  0.639272\n",
            "25%     20.718                   0.862451                        0.480192              0.412156                 0.595719              0.659818               0.824065                   0.650714                  0.673967\n",
            "50%     20.8596                  0.86565                         0.509596              0.419537                 0.612943              0.668307               0.833169                   0.662402                  0.68061\n",
            "75%     21.3336                  0.874631                        0.541216              0.424459                 0.619587              0.673105               0.847441                   0.670276                  0.691806\n",
            "max     22.4823                  0.886319                        0.562008              0.435039                 0.628445              0.685531               0.855315                   0.677165                  0.699311\n",
            "      val_loss    val_gender_output_acc    val_image_quality_output_acc    val_age_output_acc    val_weight_output_acc    val_bag_output_acc    val_pose_output_acc    val_footwear_output_acc    val_emotion_output_acc\n",
            "--  ----------  -----------------------  ------------------------------  --------------------  -----------------------  --------------------  ---------------------  -------------------------  ------------------------\n",
            " 7     19.9243                 0.886319                        0.562008              0.435039                 0.619587              0.670276               0.855315                   0.670768                  0.679134\n",
            "[-0.0241 -0.0241 -0.0108  0.0015 -0.0039 -0.0153  0.      0.0005]\n",
            "[-2.41 -2.41 -1.08  0.15 -0.39 -1.53  0.    0.05]\n"
          ],
          "name": "stdout"
        },
        {
          "output_type": "execute_result",
          "data": {
            "text/plain": [
              "-7.62"
            ]
          },
          "metadata": {
            "tags": []
          },
          "execution_count": 120
        }
      ]
    },
    {
      "cell_type": "code",
      "metadata": {
        "id": "OIw9QbITP4sw",
        "colab_type": "code",
        "outputId": "3a35b9cd-b0dc-4782-d2dc-47fd41476a27",
        "colab": {
          "base_uri": "https://localhost:8080/",
          "height": 50
        }
      },
      "source": [
        "get_latestn_files(path = '/content/gdrive/My Drive/WRN_Extend/',pattern=\"*h5\",count=2)"
      ],
      "execution_count": 30,
      "outputs": [
        {
          "output_type": "execute_result",
          "data": {
            "text/plain": [
              "['/content/gdrive/My Drive/WRN_Extend/assignment5_wrn2_rkg_fresh_wrn_wide_rjy2_gml2_1577624977_1577625577_model.008.h5',\n",
              " '/content/gdrive/My Drive/WRN_Extend/assignment5_wrn2_rkg_fresh_wrn_wide_rjy2_gml2_1577624977_1577625577_model.002.h5']"
            ]
          },
          "metadata": {
            "tags": []
          },
          "execution_count": 30
        }
      ]
    },
    {
      "cell_type": "code",
      "metadata": {
        "id": "FUv6gyU9StQ9",
        "colab_type": "code",
        "outputId": "7b05f49c-69a3-4c74-9171-f95f6a39bf26",
        "colab": {
          "base_uri": "https://localhost:8080/",
          "height": 374
        }
      },
      "source": [
        "plot_moving_average(df_array[0], 'acc',5)"
      ],
      "execution_count": 78,
      "outputs": [
        {
          "output_type": "display_data",
          "data": {
            "image/png": "[encoded data removed]",
            "text/plain": [
              "<Figure size 1080x432 with 1 Axes>"
            ]
          },
          "metadata": {
            "tags": []
          }
        }
      ]
    },
    {
      "cell_type": "code",
      "metadata": {
        "id": "8fhA5I7pRq5I",
        "colab_type": "code",
        "colab": {
          "base_uri": "https://localhost:8080/",
          "height": 374
        },
        "outputId": "770f2e01-b4cb-405a-92ef-8217704a8653"
      },
      "source": [
        "plot_moving_average(df_array_wide[0], 'acc',5)"
      ],
      "execution_count": 79,
      "outputs": [
        {
          "output_type": "display_data",
          "data": {
            "image/png": "[encoded data removed]",
            "text/plain": [
              "<Figure size 1080x432 with 1 Axes>"
            ]
          },
          "metadata": {
            "tags": []
          }
        }
      ]
    },
    {
      "cell_type": "code",
      "metadata": {
        "id": "fdbG-3oWS9XV",
        "colab_type": "code",
        "colab": {}
      },
      "source": [
        "plot_moving_average(df_array[0], 'output_loss',5)"
      ],
      "execution_count": 0,
      "outputs": []
    },
    {
      "cell_type": "code",
      "metadata": {
        "id": "zNhBPPaNSewg",
        "colab_type": "code",
        "colab": {}
      },
      "source": [
        "plot_moving_average(df_array[1], 'output_loss',5)"
      ],
      "execution_count": 0,
      "outputs": []
    },
    {
      "cell_type": "code",
      "metadata": {
        "id": "QDeNyPMKMkvN",
        "colab_type": "code",
        "colab": {}
      },
      "source": [
        "show_table(df_array[0],'loss')\n",
        "show_table(df_array[0],'acc')"
      ],
      "execution_count": 0,
      "outputs": []
    },
    {
      "cell_type": "code",
      "metadata": {
        "id": "9rzIccVgD8ZM",
        "colab_type": "code",
        "colab": {
          "base_uri": "https://localhost:8080/",
          "height": 50
        },
        "outputId": "8e66df81-5c89-4df4-9116-920cf821cc2b"
      },
      "source": [
        "out_arr=delta_between_two_dfs(df_array[2],df_array[3])\n",
        "out_arr.sum()*100.0"
      ],
      "execution_count": 25,
      "outputs": [
        {
          "output_type": "stream",
          "text": [
            "[ 0.001  -0.0074 -0.001  -0.005   0.001  -0.0134  0.0005 -0.001 ]\n"
          ],
          "name": "stdout"
        },
        {
          "output_type": "execute_result",
          "data": {
            "text/plain": [
              "-2.5300000000000002"
            ]
          },
          "metadata": {
            "tags": []
          },
          "execution_count": 25
        }
      ]
    },
    {
      "cell_type": "code",
      "metadata": {
        "id": "nkT1l0R3rfEE",
        "colab_type": "code",
        "colab": {}
      },
      "source": [
        "def print_min_loss(df_plot):\n",
        "    #df_plot = df_array[1]\n",
        "    min_idx_val = df_plot['val_loss'].idxmin()\n",
        "    prog_acc= re.compile(\"^val.*acc$|val_loss|lr\")\n",
        "    val_acc = np.array([column_name for column_name in df_plot.columns if prog_acc.match(column_name) != None])\n",
        "    return df_plot.iloc[min_idx_val:min_idx_val+1][val_acc].T"
      ],
      "execution_count": 0,
      "outputs": []
    },
    {
      "cell_type": "code",
      "metadata": {
        "id": "CrKbcddwrw6G",
        "colab_type": "code",
        "colab": {
          "base_uri": "https://localhost:8080/",
          "height": 345
        },
        "outputId": "16e2bb9c-398e-489c-9d07-4c3390a465ea"
      },
      "source": [
        "#print_min_loss(df_array_wide[0])\n",
        "print_min_loss(df_array[0])\n",
        "print_min_loss(df_array_wide[0])"
      ],
      "execution_count": 110,
      "outputs": [
        {
          "output_type": "execute_result",
          "data": {
            "text/html": [
              "<div>\n",
              "<style scoped>\n",
              "    .dataframe tbody tr th:only-of-type {\n",
              "        vertical-align: middle;\n",
              "    }\n",
              "\n",
              "    .dataframe tbody tr th {\n",
              "        vertical-align: top;\n",
              "    }\n",
              "\n",
              "    .dataframe thead th {\n",
              "        text-align: right;\n",
              "    }\n",
              "</style>\n",
              "<table border=\"1\" class=\"dataframe\">\n",
              "  <thead>\n",
              "    <tr style=\"text-align: right;\">\n",
              "      <th></th>\n",
              "      <th>15</th>\n",
              "    </tr>\n",
              "  </thead>\n",
              "  <tbody>\n",
              "    <tr>\n",
              "      <th>val_loss</th>\n",
              "      <td>13.505158</td>\n",
              "    </tr>\n",
              "    <tr>\n",
              "      <th>val_gender_output_acc</th>\n",
              "      <td>0.885827</td>\n",
              "    </tr>\n",
              "    <tr>\n",
              "      <th>val_image_quality_output_acc</th>\n",
              "      <td>0.553642</td>\n",
              "    </tr>\n",
              "    <tr>\n",
              "      <th>val_age_output_acc</th>\n",
              "      <td>0.435039</td>\n",
              "    </tr>\n",
              "    <tr>\n",
              "      <th>val_weight_output_acc</th>\n",
              "      <td>0.621063</td>\n",
              "    </tr>\n",
              "    <tr>\n",
              "      <th>val_bag_output_acc</th>\n",
              "      <td>0.685531</td>\n",
              "    </tr>\n",
              "    <tr>\n",
              "      <th>val_pose_output_acc</th>\n",
              "      <td>0.852362</td>\n",
              "    </tr>\n",
              "    <tr>\n",
              "      <th>val_footwear_output_acc</th>\n",
              "      <td>0.671260</td>\n",
              "    </tr>\n",
              "    <tr>\n",
              "      <th>val_emotion_output_acc</th>\n",
              "      <td>0.682087</td>\n",
              "    </tr>\n",
              "    <tr>\n",
              "      <th>lr</th>\n",
              "      <td>0.000251</td>\n",
              "    </tr>\n",
              "  </tbody>\n",
              "</table>\n",
              "</div>"
            ],
            "text/plain": [
              "                                     15\n",
              "val_loss                      13.505158\n",
              "val_gender_output_acc          0.885827\n",
              "val_image_quality_output_acc   0.553642\n",
              "val_age_output_acc             0.435039\n",
              "val_weight_output_acc          0.621063\n",
              "val_bag_output_acc             0.685531\n",
              "val_pose_output_acc            0.852362\n",
              "val_footwear_output_acc        0.671260\n",
              "val_emotion_output_acc         0.682087\n",
              "lr                             0.000251"
            ]
          },
          "metadata": {
            "tags": []
          },
          "execution_count": 110
        }
      ]
    },
    {
      "cell_type": "code",
      "metadata": {
        "id": "Z_1a25lqMz43",
        "colab_type": "code",
        "colab": {
          "base_uri": "https://localhost:8080/",
          "height": 316
        },
        "outputId": "d4ad3cbb-002c-4de4-9cb1-83b0adec343e"
      },
      "source": [
        "df_plot = df_array[0]\n",
        "min_idx_val = df_plot['val_loss'].idxmin()\n",
        "prog_acc= re.compile(\"^val.*acc$|val_loss\")\n",
        "val_acc = np.array([column_name for column_name in df_plot.columns if prog_acc.match(column_name) != None])\n",
        "arr1 = df_plot.iloc[min_idx_val:min_idx_val+1][val_acc].T\n",
        "\n",
        "\n",
        "df_plot = df_array[1]\n",
        "min_idx_val = df_plot['val_loss'].idxmin()\n",
        "prog_acc= re.compile(\"^val.*acc$|val_loss\")\n",
        "val_acc = np.array([column_name for column_name in df_plot.columns if prog_acc.match(column_name) != None])\n",
        "arr2 = df_plot.iloc[min_idx_val:min_idx_val+1][val_acc].T\n",
        "final_val=np.round(100.0*(arr1.iloc[1:,:1].values-arr2.iloc[1:,:1].values),4)\n",
        "final_val.reshape(final_val.shape[0],)\n"
      ],
      "execution_count": 133,
      "outputs": [
        {
          "output_type": "execute_result",
          "data": {
            "text/html": [
              "<div>\n",
              "<style scoped>\n",
              "    .dataframe tbody tr th:only-of-type {\n",
              "        vertical-align: middle;\n",
              "    }\n",
              "\n",
              "    .dataframe tbody tr th {\n",
              "        vertical-align: top;\n",
              "    }\n",
              "\n",
              "    .dataframe thead th {\n",
              "        text-align: right;\n",
              "    }\n",
              "</style>\n",
              "<table border=\"1\" class=\"dataframe\">\n",
              "  <thead>\n",
              "    <tr style=\"text-align: right;\">\n",
              "      <th></th>\n",
              "      <th>8</th>\n",
              "    </tr>\n",
              "  </thead>\n",
              "  <tbody>\n",
              "    <tr>\n",
              "      <th>val_loss</th>\n",
              "      <td>26.262089</td>\n",
              "    </tr>\n",
              "    <tr>\n",
              "      <th>val_gender_output_acc</th>\n",
              "      <td>0.804563</td>\n",
              "    </tr>\n",
              "    <tr>\n",
              "      <th>val_image_quality_output_acc</th>\n",
              "      <td>0.572917</td>\n",
              "    </tr>\n",
              "    <tr>\n",
              "      <th>val_age_output_acc</th>\n",
              "      <td>0.402778</td>\n",
              "    </tr>\n",
              "    <tr>\n",
              "      <th>val_weight_output_acc</th>\n",
              "      <td>0.617063</td>\n",
              "    </tr>\n",
              "    <tr>\n",
              "      <th>val_bag_output_acc</th>\n",
              "      <td>0.624008</td>\n",
              "    </tr>\n",
              "    <tr>\n",
              "      <th>val_pose_output_acc</th>\n",
              "      <td>0.776786</td>\n",
              "    </tr>\n",
              "    <tr>\n",
              "      <th>val_footwear_output_acc</th>\n",
              "      <td>0.658730</td>\n",
              "    </tr>\n",
              "    <tr>\n",
              "      <th>val_emotion_output_acc</th>\n",
              "      <td>0.705357</td>\n",
              "    </tr>\n",
              "  </tbody>\n",
              "</table>\n",
              "</div>"
            ],
            "text/plain": [
              "                                      8\n",
              "val_loss                      26.262089\n",
              "val_gender_output_acc          0.804563\n",
              "val_image_quality_output_acc   0.572917\n",
              "val_age_output_acc             0.402778\n",
              "val_weight_output_acc          0.617063\n",
              "val_bag_output_acc             0.624008\n",
              "val_pose_output_acc            0.776786\n",
              "val_footwear_output_acc        0.658730\n",
              "val_emotion_output_acc         0.705357"
            ]
          },
          "metadata": {
            "tags": []
          },
          "execution_count": 133
        }
      ]
    },
    {
      "cell_type": "code",
      "metadata": {
        "id": "1QXORTutNlMU",
        "colab_type": "code",
        "colab": {
          "base_uri": "https://localhost:8080/",
          "height": 50
        },
        "outputId": "64433a30-6a30-4ff3-ac14-b44d4ce06bb4"
      },
      "source": [
        ""
      ],
      "execution_count": 148,
      "outputs": [
        {
          "output_type": "execute_result",
          "data": {
            "text/plain": [
              "array([ 1.1905, -0.5456, -0.0992, -0.6448, -0.6944,  1.9841, -1.3889,\n",
              "       -0.8929])"
            ]
          },
          "metadata": {
            "tags": []
          },
          "execution_count": 148
        }
      ]
    },
    {
      "cell_type": "code",
      "metadata": {
        "id": "TPfOGmAARnLb",
        "colab_type": "code",
        "colab": {
          "base_uri": "https://localhost:8080/",
          "height": 472
        },
        "outputId": "01ac0daf-cfc2-4a26-ce5f-665430519b73"
      },
      "source": [
        "describe_min_val_loss(df_array[2])\n",
        "describe_min_val_loss(df_array[3])"
      ],
      "execution_count": 42,
      "outputs": [
        {
          "output_type": "stream",
          "text": [
            "         val_loss    val_gender_output_acc    val_image_quality_output_acc    val_age_output_acc    val_weight_output_acc    val_bag_output_acc    val_pose_output_acc    val_footwear_output_acc    val_emotion_output_acc\n",
            "-----  ----------  -----------------------  ------------------------------  --------------------  -----------------------  --------------------  ---------------------  -------------------------  ------------------------\n",
            "count    23                     23                              23                    23                       23                    23                     23                         23                        23\n",
            "mean     22.3351                 0.77726                         0.54136               0.389614                 0.60585               0.619929               0.768358                   0.631184                  0.690153\n",
            "std       0.58716                0.0280876                       0.0200773             0.0162452                0.0198726             0.0138611              0.0301797                  0.0222873                 0.0228082\n",
            "min      21.3647                 0.725394                        0.479331              0.337106                 0.540354              0.593012               0.702756                   0.568898                  0.603346\n",
            "25%      21.9633                 0.755906                        0.541585              0.387303                 0.606053              0.610728               0.753199                   0.624508                  0.687008\n",
            "50%      22.3319                 0.783465                        0.545276              0.394685                 0.612697              0.624016               0.769193                   0.639764                  0.698327\n",
            "75%      22.592                  0.796752                        0.553888              0.398868                 0.616634              0.626722               0.792077                   0.645177                  0.70374\n",
            "max      23.959                  0.823327                        0.5625                0.406988                 0.622047              0.646161               0.817421                   0.657972                  0.707677\n",
            "      val_loss    val_gender_output_acc    val_image_quality_output_acc    val_age_output_acc    val_weight_output_acc    val_bag_output_acc    val_pose_output_acc    val_footwear_output_acc    val_emotion_output_acc\n",
            "--  ----------  -----------------------  ------------------------------  --------------------  -----------------------  --------------------  ---------------------  -------------------------  ------------------------\n",
            "21     21.3647                 0.823327                        0.553642              0.402559                 0.608268              0.642717               0.808071                   0.657972                  0.707677\n",
            "         val_loss    val_gender_output_acc    val_image_quality_output_acc    val_age_output_acc    val_weight_output_acc    val_bag_output_acc    val_pose_output_acc    val_footwear_output_acc    val_emotion_output_acc\n",
            "-----  ----------  -----------------------  ------------------------------  --------------------  -----------------------  --------------------  ---------------------  -------------------------  ------------------------\n",
            "count   100                    100                            100                    100                     100                    100                    100                        100                       100\n",
            "mean     24.756                  0.681826                       0.5444                 0.394877                0.618307               0.586939               0.655487                   0.583647                  0.701531\n",
            "std       1.12347                0.0402956                      0.00455283             0.0148068               0.00792079             0.0159936              0.0423207                  0.0302873                 0.0142818\n",
            "min      22.6709                 0.577264                       0.528543               0.269685                0.584646               0.556594               0.582677                   0.50935                   0.584646\n",
            "25%      23.8687                 0.658219                       0.543307               0.393578                0.61688                0.576156               0.62094                    0.564469                  0.702756\n",
            "50%      24.806                  0.684301                       0.545276               0.39813                 0.622047               0.587844               0.633858                   0.590059                  0.705709\n",
            "75%      25.6751                 0.708292                       0.546875               0.400591                0.623031               0.596703               0.688484                   0.609006                  0.706201\n",
            "max      26.892                  0.753937                       0.55315                0.410433                0.623524               0.623031               0.750984                   0.626969                  0.706693\n",
            "      val_loss    val_gender_output_acc    val_image_quality_output_acc    val_age_output_acc    val_weight_output_acc    val_bag_output_acc    val_pose_output_acc    val_footwear_output_acc    val_emotion_output_acc\n",
            "--  ----------  -----------------------  ------------------------------  --------------------  -----------------------  --------------------  ---------------------  -------------------------  ------------------------\n",
            "95     22.6709                 0.753937                        0.550197              0.395177                 0.611713              0.623031               0.750984                    0.61811                  0.699803\n"
          ],
          "name": "stdout"
        }
      ]
    },
    {
      "cell_type": "code",
      "metadata": {
        "id": "989oLVqAlM4K",
        "colab_type": "code",
        "colab": {}
      },
      "source": [
        "for col_str in df_array[0].columns.values:\n",
        "    print(df_array[0][col_str].max()"
      ],
      "execution_count": 0,
      "outputs": []
    },
    {
      "cell_type": "code",
      "metadata": {
        "id": "m3ioSJkzd8em",
        "colab_type": "code",
        "outputId": "fc1ba5d3-95df-418b-c451-79bce10fa44f",
        "colab": {
          "base_uri": "https://localhost:8080/",
          "height": 106
        }
      },
      "source": [
        "df_array[1].iloc[df_array[1]['val_loss'].idxmin():]"
      ],
      "execution_count": 0,
      "outputs": [
        {
          "output_type": "execute_result",
          "data": {
            "text/html": [
              "<div>\n",
              "<style scoped>\n",
              "    .dataframe tbody tr th:only-of-type {\n",
              "        vertical-align: middle;\n",
              "    }\n",
              "\n",
              "    .dataframe tbody tr th {\n",
              "        vertical-align: top;\n",
              "    }\n",
              "\n",
              "    .dataframe thead th {\n",
              "        text-align: right;\n",
              "    }\n",
              "</style>\n",
              "<table border=\"1\" class=\"dataframe\">\n",
              "  <thead>\n",
              "    <tr style=\"text-align: right;\">\n",
              "      <th></th>\n",
              "      <th>val_loss</th>\n",
              "      <th>val_gender_output_loss</th>\n",
              "      <th>val_image_quality_output_loss</th>\n",
              "      <th>...</th>\n",
              "      <th>footwear_output_weighted_acc</th>\n",
              "      <th>emotion_output_weighted_acc</th>\n",
              "      <th>lr</th>\n",
              "    </tr>\n",
              "  </thead>\n",
              "  <tbody>\n",
              "    <tr>\n",
              "      <th>84</th>\n",
              "      <td>151.77089</td>\n",
              "      <td>0.578001</td>\n",
              "      <td>0.952574</td>\n",
              "      <td>...</td>\n",
              "      <td>0.618588</td>\n",
              "      <td>0.712852</td>\n",
              "      <td>0.000399</td>\n",
              "    </tr>\n",
              "  </tbody>\n",
              "</table>\n",
              "<p>1 rows × 35 columns</p>\n",
              "</div>"
            ],
            "text/plain": [
              "     val_loss  val_gender_output_loss  val_image_quality_output_loss  ...  \\\n",
              "84  151.77089                0.578001                       0.952574  ...   \n",
              "\n",
              "    footwear_output_weighted_acc  emotion_output_weighted_acc        lr  \n",
              "84                      0.618588                     0.712852  0.000399  \n",
              "\n",
              "[1 rows x 35 columns]"
            ]
          },
          "metadata": {
            "tags": []
          },
          "execution_count": 28
        }
      ]
    },
    {
      "cell_type": "code",
      "metadata": {
        "id": "fJstjwLCcSCU",
        "colab_type": "code",
        "outputId": "74f68ace-759c-47a1-e86f-80c402b25f86",
        "colab": {
          "base_uri": "https://localhost:8080/",
          "height": 408
        }
      },
      "source": [
        "df_to_plot=df_array[0]\n",
        "fig, ax = plt.subplots(2,figsize=(15, 6))\n",
        "ax[0].plot(df_to_plot.index.values,df_to_plot['lr'].values)\n",
        "ax[0].set_ylim(df_to_plot['lr'].min(), df_to_plot['lr'].max())\n",
        "ax[0].set(xlabel=\"epoch\", ylabel=\"lr\")\n",
        "ax[1].plot(df_to_plot.index.values,df_to_plot['val_loss'].values,  '-o',color='purple')\n",
        "ax[1].set_ylim(df_to_plot['val_loss'].min(), df_to_plot['val_loss'].max())\n",
        "ax[1].set(xlabel=\"epoch\", ylabel=\"val_loss\")"
      ],
      "execution_count": 0,
      "outputs": [
        {
          "output_type": "execute_result",
          "data": {
            "text/plain": [
              "[Text(0, 0.5, 'val_loss'), Text(0.5, 0, 'epoch')]"
            ]
          },
          "metadata": {
            "tags": []
          },
          "execution_count": 56
        },
        {
          "output_type": "display_data",
          "data": {
            "image/png": "[encoded data removed]",
            "text/plain": [
              "<Figure size 1080x432 with 2 Axes>"
            ]
          },
          "metadata": {
            "tags": []
          }
        }
      ]
    },
    {
      "cell_type": "code",
      "metadata": {
        "id": "5QAKyFM0WqR6",
        "colab_type": "code",
        "colab": {}
      },
      "source": [
        ""
      ],
      "execution_count": 0,
      "outputs": []
    }
  ]
}